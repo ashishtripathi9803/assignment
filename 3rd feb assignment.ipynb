{
 "cells": [
  {
   "cell_type": "markdown",
   "id": "3b327950-ddd5-4d23-98b7-8ec55ed5df85",
   "metadata": {},
   "source": [
    "Q1. Which keyword is used to create a function? Create a function to return a list of odd numbers in the\n",
    "range of 1 to 25."
   ]
  },
  {
   "cell_type": "code",
   "execution_count": 8,
   "id": "e11d8876-0d52-4aac-8f19-7be6b6106c24",
   "metadata": {},
   "outputs": [],
   "source": [
    "#Ans1 Keyword that is used to create a function is \"def\".\n",
    "\n",
    "#Function to return a list of odd numbers in the range of 1 to 25\n",
    "\n",
    "def key():\n",
    "    l= []\n",
    "    for i in range(1,26):\n",
    "        if i%2 != 0:\n",
    "            l.append(i)\n",
    "    return l"
   ]
  },
  {
   "cell_type": "code",
   "execution_count": 11,
   "id": "fd117c0f-b5a9-4100-9ba7-4739f61f1fb8",
   "metadata": {},
   "outputs": [
    {
     "data": {
      "text/plain": [
       "[1, 3, 5, 7, 9, 11, 13, 15, 17, 19, 21, 23, 25]"
      ]
     },
     "execution_count": 11,
     "metadata": {},
     "output_type": "execute_result"
    }
   ],
   "source": [
    "key()"
   ]
  },
  {
   "cell_type": "markdown",
   "id": "051b1a5e-ed1d-471b-aad6-199f6731edfb",
   "metadata": {},
   "source": [
    "Q2. Why *args and **kwargs is used in some functions? Create a function each for *args and **kwargs\n",
    "to demonstrate their use."
   ]
  },
  {
   "cell_type": "markdown",
   "id": "08a53995-7031-462a-a153-8abaebb603c6",
   "metadata": {},
   "source": [
    "#Ans2:\n",
    "# *args\n",
    " *args stands for \"arguments\" and is used to pass a variable number of non-keyworded arguments to a function. This means that you can pass any number of arguments to the function, and they will be collected into a tuple."
   ]
  },
  {
   "cell_type": "code",
   "execution_count": 13,
   "id": "a3d125fa-777d-4bf2-9e93-9a448ed7b188",
   "metadata": {},
   "outputs": [],
   "source": [
    "#example: \n",
    "def key1(*args):\n",
    "    return args"
   ]
  },
  {
   "cell_type": "code",
   "execution_count": 14,
   "id": "94165cf9-7e60-491d-a649-2f26d74843cb",
   "metadata": {},
   "outputs": [
    {
     "data": {
      "text/plain": [
       "(1, 2, 3, 4)"
      ]
     },
     "execution_count": 14,
     "metadata": {},
     "output_type": "execute_result"
    }
   ],
   "source": [
    "key1(1,2,3,4)"
   ]
  },
  {
   "cell_type": "markdown",
   "id": "a8b615f0-db7b-45f1-ae38-0baf53a41547",
   "metadata": {},
   "source": [
    "**kwargs\n",
    "\n",
    "**kwargs stands for \"keyword arguments\" and is used to pass a variable number of keyworded arguments to a function. This means that you can pass any number of keyword arguments to the function, and they will be collected into a dictionary."
   ]
  },
  {
   "cell_type": "code",
   "execution_count": 16,
   "id": "88f8baf0-460c-4997-8f76-28e577521112",
   "metadata": {},
   "outputs": [],
   "source": [
    "#example:\n",
    "def key2(**kwargs):\n",
    "    return kwargs"
   ]
  },
  {
   "cell_type": "code",
   "execution_count": 21,
   "id": "54fbc6a9-be76-4dfc-8291-08a10a3a87ea",
   "metadata": {},
   "outputs": [
    {
     "data": {
      "text/plain": [
       "{'subject': 'python', 'timing': 2, 'topic': 'functins'}"
      ]
     },
     "execution_count": 21,
     "metadata": {},
     "output_type": "execute_result"
    }
   ],
   "source": [
    "key2(subject = \"python\", timing = 2, topic = \"functins\" )"
   ]
  },
  {
   "cell_type": "markdown",
   "id": "81aaef83-21a1-4169-91b3-76cbcfb580af",
   "metadata": {},
   "source": [
    "Q3 What is an iterator in python? Name the method used to initialise the iterator object and the method\n",
    "used for iteration. Use these methods to print the first five elements of the given list [2, 4, 6, 8, 10, 12, 14,\n",
    "16, 18, 20]."
   ]
  },
  {
   "cell_type": "markdown",
   "id": "48815d60-662e-4b5b-8145-b769fd039afb",
   "metadata": {},
   "source": [
    "Ans3 In Python, an iterator is an object that implements the iterator protocol, which consists of two methods: __iter__() and __next__(). An iterator is an object that can be iterated (looped) upon, meaning that you can traverse through all the values.\n",
    "\n",
    "The __iter__() method returns the iterator object itself, and the __next__() method returns the next value in the iteration. When there are no more elements to iterate over, the __next__() method raises the StopIteration exception.\n",
    "\n",
    "To initialize an iterator object, you can call the iter() function on any iterable object. The iter() function returns an iterator object that can be used to iterate over the iterable.\n",
    "\n",
    "To iterate over the elements of an iterator, you can use a for loop, or you can call the next() function on the iterator object until the end of the iteration is reached. When there are no more elements to iterate over, the next() function will raise a StopIteration exception."
   ]
  },
  {
   "cell_type": "code",
   "execution_count": 23,
   "id": "b5ebd742-84ca-4e94-922e-4a28d6776b86",
   "metadata": {},
   "outputs": [
    {
     "name": "stdout",
     "output_type": "stream",
     "text": [
      "2\n",
      "4\n",
      "6\n",
      "8\n",
      "10\n"
     ]
    }
   ],
   "source": [
    "#example\n",
    "given_list = [2, 4, 6, 8, 10, 12, 14, 16, 18, 20]\n",
    "list_iter = iter(given_list)\n",
    "\n",
    "for i in range(5):\n",
    "    print(next(list_iter))"
   ]
  },
  {
   "cell_type": "markdown",
   "id": "ef7517cb-0f74-4751-a054-bd0c0e80a2dc",
   "metadata": {},
   "source": [
    "Q4. What is a generator function in python? Why yield keyword is used? Give an example of a generator\n",
    "function."
   ]
  },
  {
   "cell_type": "markdown",
   "id": "dd2111fe-e080-4f28-98c1-eade259e8e4b",
   "metadata": {},
   "source": [
    "Ans4 In Python, a generator function is a special type of function that returns an iterator object that can be iterated over. A generator function uses the yield keyword to return values one at a time, rather than returning all the values at once like a normal function.\n",
    "\n",
    "When a generator function is called, it returns an iterator object, but it does not start executing the function right away. Instead, it waits until the next value is requested, and then it executes the function until it reaches a yield statement. At this point, the function returns the value specified by the yield keyword, and then waits until the next value is requested before continuing execution from where it left off.\n",
    "\n",
    "The main advantage of using a generator function is that it can generate values on the fly, rather than generating all the values at once and storing them in memory, which can be more memory-efficient and faster for large datasets."
   ]
  },
  {
   "cell_type": "code",
   "execution_count": 24,
   "id": "35ff0401-e6e6-4b12-bf45-54bc276394bb",
   "metadata": {},
   "outputs": [],
   "source": [
    "#example \n",
    "def fibonacci(n):\n",
    "    a,b = 0,1\n",
    "    for i in range(n):\n",
    "        yield a\n",
    "        a,b = b,a+b"
   ]
  },
  {
   "cell_type": "code",
   "execution_count": 25,
   "id": "514a0540-af94-412b-8b0c-a6bfeeec4709",
   "metadata": {},
   "outputs": [
    {
     "data": {
      "text/plain": [
       "<generator object fibonacci at 0x7f2fec351070>"
      ]
     },
     "execution_count": 25,
     "metadata": {},
     "output_type": "execute_result"
    }
   ],
   "source": [
    "fibonacci(10)"
   ]
  },
  {
   "cell_type": "code",
   "execution_count": 26,
   "id": "019ec5dd-18b2-43aa-9521-5941564f1a24",
   "metadata": {},
   "outputs": [
    {
     "name": "stdout",
     "output_type": "stream",
     "text": [
      "0\n",
      "1\n",
      "1\n",
      "2\n",
      "3\n",
      "5\n",
      "8\n",
      "13\n",
      "21\n",
      "34\n"
     ]
    }
   ],
   "source": [
    "for i in fibonacci(10):\n",
    "    print(i)"
   ]
  },
  {
   "cell_type": "markdown",
   "id": "eca2d03b-ed32-4cbf-871e-c6358151954b",
   "metadata": {},
   "source": [
    "Q6. Write a python program to print the first 10 Fibonacci numbers using a while loop."
   ]
  },
  {
   "cell_type": "code",
   "execution_count": 14,
   "id": "e3e2cbfd-0fa7-450c-aa6c-10a199576958",
   "metadata": {},
   "outputs": [
    {
     "name": "stdout",
     "output_type": "stream",
     "text": [
      "0\n",
      "1\n",
      "1\n",
      "2\n",
      "3\n",
      "5\n",
      "8\n",
      "13\n",
      "21\n",
      "34\n"
     ]
    }
   ],
   "source": [
    "#Ans6\n",
    "a,b = 0,1\n",
    "count = 0\n",
    "while count < 10:\n",
    "    print(a)\n",
    "    a,b = b,a+b\n",
    "    count = count+1"
   ]
  },
  {
   "cell_type": "markdown",
   "id": "6f9782f4-7e1e-4866-9a81-ac60dd2a1b25",
   "metadata": {},
   "source": [
    "Q7. Write a List Comprehension to iterate through the given string: ‘pwskills’.\n",
    "Expected output: ['p', 'w', 's', 'k', 'i', 'l', 'l', 's']"
   ]
  },
  {
   "cell_type": "code",
   "execution_count": 13,
   "id": "26cade4d-9b7c-4f9e-b921-782be4a96818",
   "metadata": {},
   "outputs": [
    {
     "data": {
      "text/plain": [
       "['p', 'w', 's', 'k', 'i', 'l', 'l', 's']"
      ]
     },
     "execution_count": 13,
     "metadata": {},
     "output_type": "execute_result"
    }
   ],
   "source": [
    "#Ans7 \n",
    "s = \"pwskills\"\n",
    "[i for i in s]"
   ]
  },
  {
   "cell_type": "markdown",
   "id": "5806af05-8b20-419e-8b7d-50571146faae",
   "metadata": {},
   "source": [
    "Q8. Write a python program to check whether a given number is Palindrome or not using a while loop."
   ]
  },
  {
   "cell_type": "code",
   "execution_count": 12,
   "id": "3044ea90-d420-453d-9174-0bfbb4405cbc",
   "metadata": {},
   "outputs": [
    {
     "name": "stdin",
     "output_type": "stream",
     "text": [
      "Enter your number 1221\n"
     ]
    },
    {
     "name": "stdout",
     "output_type": "stream",
     "text": [
      "1221\n",
      "no. is palindrome\n"
     ]
    }
   ],
   "source": [
    "#Ans8\n",
    "number = int(input(\"Enter your number\"))\n",
    "temp = number\n",
    "reverse = 0\n",
    "\n",
    "while number>0 :\n",
    "    dig = number%10\n",
    "    reverse = reverse*10 + dig\n",
    "    number = number//10\n",
    "print(reverse)\n",
    "\n",
    "if temp == reverse:\n",
    "    print(\"no. is palindrome\")\n",
    "else:\n",
    "    (\"print no. is not a palindrome\")"
   ]
  },
  {
   "cell_type": "markdown",
   "id": "b2322256-eb64-4b25-b844-6878dc899bdd",
   "metadata": {},
   "source": [
    "Q9. Write a code to print odd numbers from 1 to 100 using list comprehension."
   ]
  },
  {
   "cell_type": "code",
   "execution_count": 22,
   "id": "ad0e8cd4-c121-4396-a257-3a0618dfba8f",
   "metadata": {},
   "outputs": [
    {
     "data": {
      "text/plain": [
       "[1,\n",
       " 3,\n",
       " 5,\n",
       " 7,\n",
       " 9,\n",
       " 11,\n",
       " 13,\n",
       " 15,\n",
       " 17,\n",
       " 19,\n",
       " 21,\n",
       " 23,\n",
       " 25,\n",
       " 27,\n",
       " 29,\n",
       " 31,\n",
       " 33,\n",
       " 35,\n",
       " 37,\n",
       " 39,\n",
       " 41,\n",
       " 43,\n",
       " 45,\n",
       " 47,\n",
       " 49,\n",
       " 51,\n",
       " 53,\n",
       " 55,\n",
       " 57,\n",
       " 59,\n",
       " 61,\n",
       " 63,\n",
       " 65,\n",
       " 67,\n",
       " 69,\n",
       " 71,\n",
       " 73,\n",
       " 75,\n",
       " 77,\n",
       " 79,\n",
       " 81,\n",
       " 83,\n",
       " 85,\n",
       " 87,\n",
       " 89,\n",
       " 91,\n",
       " 93,\n",
       " 95,\n",
       " 97,\n",
       " 99]"
      ]
     },
     "execution_count": 22,
     "metadata": {},
     "output_type": "execute_result"
    }
   ],
   "source": [
    "#Ans9\n",
    "[num for num in range(1,101) if num%2 != 0]"
   ]
  },
  {
   "cell_type": "markdown",
   "id": "2b1ef373-ebd6-4d41-8fcf-47ac03ec3d08",
   "metadata": {},
   "source": [
    "Q5. Create a generator function for prime numbers less than 1000. Use the next() method to print the\n",
    "first 20 prime numbers."
   ]
  },
  {
   "cell_type": "code",
   "execution_count": 16,
   "id": "ed029095-659d-40fc-8a6c-dca0795f3987",
   "metadata": {},
   "outputs": [],
   "source": [
    "#Ans\n",
    "def isprime(num):\n",
    "    for i in range(2,num):\n",
    "        if num%i==0:\n",
    "            return False\n",
    "    return True\n",
    "def primegenerator(n):\n",
    "    num = 2\n",
    "    while n > 0:\n",
    "        if isprime(num):\n",
    "            yield num\n",
    "            n-=1\n",
    "        num+=1\n",
    "    return"
   ]
  },
  {
   "cell_type": "code",
   "execution_count": 25,
   "id": "38e75080-ef59-4d32-b9cd-d3578050012d",
   "metadata": {},
   "outputs": [
    {
     "name": "stdout",
     "output_type": "stream",
     "text": [
      "2 ,3 ,5 ,7 ,11 ,13 ,17 ,19 ,23 ,29 ,31 ,37 ,41 ,43 ,47 ,53 ,59 ,61 ,67 ,71 ,"
     ]
    }
   ],
   "source": [
    "it = primegenerator(20)\n",
    "for e in it:\n",
    "    print(e, end= \" ,\")"
   ]
  },
  {
   "cell_type": "code",
   "execution_count": null,
   "id": "b102eb76-4332-449a-8a98-043a3debe6bf",
   "metadata": {},
   "outputs": [],
   "source": []
  }
 ],
 "metadata": {
  "kernelspec": {
   "display_name": "Python 3 (ipykernel)",
   "language": "python",
   "name": "python3"
  },
  "language_info": {
   "codemirror_mode": {
    "name": "ipython",
    "version": 3
   },
   "file_extension": ".py",
   "mimetype": "text/x-python",
   "name": "python",
   "nbconvert_exporter": "python",
   "pygments_lexer": "ipython3",
   "version": "3.10.8"
  }
 },
 "nbformat": 4,
 "nbformat_minor": 5
}
