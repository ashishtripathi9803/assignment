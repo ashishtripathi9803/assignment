{
 "cells": [
  {
   "cell_type": "markdown",
   "id": "5f8c2264-d4df-4872-8ed1-6b70cc427f36",
   "metadata": {},
   "source": [
    "Q1. Explain Class and Object with respect to Object-Oriented Programming. Give a suitable example."
   ]
  },
  {
   "cell_type": "markdown",
   "id": "b6af0e9f-021d-43e5-8aaa-129a403d0e43",
   "metadata": {},
   "source": [
    "Ans1 In object-oriented programming, a class is a blueprint or a template for creating objects that defines a set of attributes (data) and behaviors (methods) that objects of that class can have. An object, on the other hand, is an instance of a class - a specific occurrence of that class that has its own unique set of values for the attributes defined in the class.\n",
    "\n",
    "Let's take the example of a class called \"Car\". The Car class can have attributes such as \"make\", \"model\", \"year\", \"color\", \"price\", etc. and behaviors such as \"start\", \"stop\", \"accelerate\", \"brake\", etc. Each time we create an object of the Car class, we can assign different values to its attributes. For example, we could create an object of the Car class called \"myCar\" and assign the make, model, year, color, and price of a Toyota Camry to its attributes. Then we could create another object of the Car class called \"yourCar\" and assign the make, model, year, color, and price of a Ford Mustang to its attributes. Both \"myCar\" and \"yourCar\" are objects of the Car class, but they have different values assigned to their attributes."
   ]
  },
  {
   "cell_type": "code",
   "execution_count": 3,
   "id": "b5d20152-6797-4e53-9936-41f539584a67",
   "metadata": {},
   "outputs": [],
   "source": [
    "#example \n",
    "class car():\n",
    "    def __init__(self, make, model, year, colour, price):\n",
    "        self.make = make\n",
    "        self.model = model\n",
    "        self.year = year\n",
    "        self.colour = colour\n",
    "        self.price = price\n",
    "    \n",
    "    def return_car_details(self):\n",
    "        return self.make, self.model, self.year, self.colour, self.price\n",
    "        "
   ]
  },
  {
   "cell_type": "code",
   "execution_count": 4,
   "id": "63892c48-7f8d-4bc8-83ce-24dd3619caee",
   "metadata": {},
   "outputs": [],
   "source": [
    "suv = car(\"toyata\", \"fortuner\", 2020, \"white\", 540000 )"
   ]
  },
  {
   "cell_type": "code",
   "execution_count": 5,
   "id": "96ef0dc8-5054-4869-83b1-2f7f15c338ab",
   "metadata": {},
   "outputs": [
    {
     "data": {
      "text/plain": [
       "'toyata'"
      ]
     },
     "execution_count": 5,
     "metadata": {},
     "output_type": "execute_result"
    }
   ],
   "source": [
    "suv.make"
   ]
  },
  {
   "cell_type": "code",
   "execution_count": 6,
   "id": "78316af9-dae5-4350-af72-38ea3dc59604",
   "metadata": {},
   "outputs": [
    {
     "data": {
      "text/plain": [
       "2020"
      ]
     },
     "execution_count": 6,
     "metadata": {},
     "output_type": "execute_result"
    }
   ],
   "source": [
    "suv.year"
   ]
  },
  {
   "cell_type": "code",
   "execution_count": 7,
   "id": "bbb05995-418d-49bd-9465-4206f343fd14",
   "metadata": {},
   "outputs": [
    {
     "data": {
      "text/plain": [
       "('toyata', 'fortuner', 2020, 'white', 540000)"
      ]
     },
     "execution_count": 7,
     "metadata": {},
     "output_type": "execute_result"
    }
   ],
   "source": [
    "suv.return_car_details()"
   ]
  },
  {
   "cell_type": "markdown",
   "id": "d57a6235-2131-4884-9b9f-680344b34981",
   "metadata": {},
   "source": [
    "Q2. Name the four pillars of OOPs."
   ]
  },
  {
   "cell_type": "markdown",
   "id": "304533ca-d241-45e0-816b-60323371d0b3",
   "metadata": {},
   "source": [
    "Ans2 The four pillars of object-oriented programming (OOP) are:\n",
    "\n",
    "1. Encapsulation\n",
    "2. Inheritance\n",
    "3. Polymorphism\n",
    "4. Abstraction"
   ]
  },
  {
   "cell_type": "markdown",
   "id": "b05829d3-49de-466c-b6a3-f091b54de61b",
   "metadata": {},
   "source": [
    "Q3. Explain why the __init__() function is used. Give a suitable example."
   ]
  },
  {
   "cell_type": "markdown",
   "id": "d545a2db-ff76-4bc7-9317-4dd20e61f04f",
   "metadata": {},
   "source": [
    "Ans3 In object-oriented programming, the __init__() function is a special method that is called when an object of a class is created. It is used to initialize the attributes of the object with the values passed as arguments when the object is created."
   ]
  },
  {
   "cell_type": "code",
   "execution_count": 9,
   "id": "1a39ef28-a196-47f6-b77a-396fe3805ae9",
   "metadata": {},
   "outputs": [],
   "source": [
    "#Ans3\n",
    "class Person:\n",
    "    def __init__(self, name, age, gender):\n",
    "        self.name = name\n",
    "        self.age = age\n",
    "        self.gender = gender\n",
    "\n",
    "    def introduce(self):\n",
    "        print(\"Hi, my name is\", self.name, \"and I am\", self.age, \"years old. I am\", self.gender)"
   ]
  },
  {
   "cell_type": "code",
   "execution_count": 10,
   "id": "8b1e58f6-39f6-4daf-acac-0164ee882643",
   "metadata": {},
   "outputs": [],
   "source": [
    "person1 = Person(\"John\", 25, \"male\")"
   ]
  },
  {
   "cell_type": "code",
   "execution_count": 12,
   "id": "97b50812-4597-4457-9bff-ec0636fa530a",
   "metadata": {},
   "outputs": [
    {
     "name": "stdout",
     "output_type": "stream",
     "text": [
      "Hi, my name is John and I am 25 years old. I am male\n"
     ]
    }
   ],
   "source": [
    "person1.introduce()"
   ]
  },
  {
   "cell_type": "markdown",
   "id": "b05ec51b-8281-4c99-bf89-a174a718efb1",
   "metadata": {},
   "source": [
    "Q4. Why self is used in OOPs?"
   ]
  },
  {
   "cell_type": "markdown",
   "id": "f74d0f37-123f-4817-bba5-b1419b78b284",
   "metadata": {},
   "source": [
    "Ans4 In object-oriented programming (OOP), self is a reference to the instance of a class. It is used to access the attributes and methods of the class within its own methods.\n",
    "\n",
    "When a method is called on an object of a class, the object itself is automatically passed as the first argument to the method. This argument is referred to as self, although you can technically name it anything you want. By convention, however, it is always named self."
   ]
  },
  {
   "cell_type": "markdown",
   "id": "9afff8e9-fbc6-4e14-af19-91d4094342e1",
   "metadata": {},
   "source": [
    "Q5. What is inheritance? Give an example for each type of inheritance."
   ]
  },
  {
   "cell_type": "markdown",
   "id": "d906a9f1-0d52-45b8-8b11-60167eb6a8e0",
   "metadata": {},
   "source": [
    "Ans5 Inheritance is a fundamental concept in object-oriented programming (OOP) that allows one class to inherit properties and behaviors from another class. The class that inherits from another class is called the subclass or derived class, and the class that is being inherited from is called the superclass or base class.\n",
    "\n",
    "There are four types of inheritance in OOP:\n",
    "\n",
    "1. Single inheritance: Single inheritance is when a subclass inherits properties and behaviors from a single superclass.\n",
    "2. Multi-level inheritance: Multi-level inheritance is when a subclass inherits properties and behaviors from a superclass that is itself a subclass of another superclass.\n",
    "3. Hierarchical Inheritance: In this type of inheritance, multiple child classes inherit properties from a single parent class.\n",
    "4. Multilevel Inheritance: In this type of inheritance, a child class inherits properties from a parent class, which in turn inherits properties from another parent class. "
   ]
  },
  {
   "cell_type": "code",
   "execution_count": null,
   "id": "ba44f448-8074-4a31-b304-d7a3497fc67f",
   "metadata": {},
   "outputs": [],
   "source": []
  }
 ],
 "metadata": {
  "kernelspec": {
   "display_name": "Python 3 (ipykernel)",
   "language": "python",
   "name": "python3"
  },
  "language_info": {
   "codemirror_mode": {
    "name": "ipython",
    "version": 3
   },
   "file_extension": ".py",
   "mimetype": "text/x-python",
   "name": "python",
   "nbconvert_exporter": "python",
   "pygments_lexer": "ipython3",
   "version": "3.10.8"
  }
 },
 "nbformat": 4,
 "nbformat_minor": 5
}
