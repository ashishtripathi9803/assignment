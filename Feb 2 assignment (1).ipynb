{
 "cells": [
  {
   "cell_type": "markdown",
   "id": "4e7fbaba-5c02-4186-94ea-caaf24332e43",
   "metadata": {},
   "source": [
    "Q1. Explain with an example each when to use a for loop and a while loop."
   ]
  },
  {
   "cell_type": "markdown",
   "id": "c9428c04-02ae-46f2-a2e4-60186d2eac1f",
   "metadata": {},
   "source": [
    "Ans1. The for circle is used when we formerly know the number of duplications, which means when we know how numerous times a statement has to be executed. That's why we've to specify the ending point in the for circle initialization.\n",
    "\n",
    "When we need to end the circle on a condition other than the number of times, we use a while circle. In this case, it isn't necessary to know the condition beforehand. That's why we can give a boolean expression in the initialization of the circle."
   ]
  },
  {
   "cell_type": "markdown",
   "id": "d7b922cf-4a2d-41d7-8ed8-35cb9bcec9f7",
   "metadata": {},
   "source": [
    "Q2. Write a python program to print the sum and product of the first 10 natural numbers using for\n",
    "and while loop."
   ]
  },
  {
   "cell_type": "code",
   "execution_count": 23,
   "id": "d600511a-a9bf-4730-a1af-d7c259a9f7ff",
   "metadata": {},
   "outputs": [
    {
     "data": {
      "text/plain": [
       "55"
      ]
     },
     "execution_count": 23,
     "metadata": {},
     "output_type": "execute_result"
    }
   ],
   "source": [
    "#Ans2. \n",
    "\n",
    "# Sum Using for loop \n",
    "n = list(range(1,11))\n",
    "result = 0 \n",
    "for i in n:\n",
    "    result = result + i\n",
    "result"
   ]
  },
  {
   "cell_type": "code",
   "execution_count": 24,
   "id": "21cbfaaf-8fd9-4850-b823-050241dd2b09",
   "metadata": {},
   "outputs": [
    {
     "data": {
      "text/plain": [
       "3628800"
      ]
     },
     "execution_count": 24,
     "metadata": {},
     "output_type": "execute_result"
    }
   ],
   "source": [
    "# Product Using for loop \n",
    "n = list(range(1,11))\n",
    "result = 1\n",
    "for i in n:\n",
    "    result = result * i\n",
    "result"
   ]
  },
  {
   "cell_type": "code",
   "execution_count": 25,
   "id": "8bc1c5e8-bbaf-4bb6-a8c5-dfd013daa84d",
   "metadata": {},
   "outputs": [
    {
     "data": {
      "text/plain": [
       "55"
      ]
     },
     "execution_count": 25,
     "metadata": {},
     "output_type": "execute_result"
    }
   ],
   "source": [
    "# Sum using while loop\n",
    "n = 10\n",
    "starting_point = 0\n",
    "counter = 1\n",
    "\n",
    "while counter <= n :\n",
    "    starting_point = starting_point + counter\n",
    "    counter = counter + 1\n",
    "starting_point"
   ]
  },
  {
   "cell_type": "code",
   "execution_count": 26,
   "id": "f8f5b2f0-2d91-4501-82f6-09979bc5b9b3",
   "metadata": {},
   "outputs": [
    {
     "data": {
      "text/plain": [
       "3628800"
      ]
     },
     "execution_count": 26,
     "metadata": {},
     "output_type": "execute_result"
    }
   ],
   "source": [
    "# Product using while loop\n",
    "n = 10\n",
    "starting_point = 1\n",
    "counter = 1\n",
    "\n",
    "while counter <= n :\n",
    "    starting_point = starting_point * counter\n",
    "    counter = counter + 1\n",
    "starting_point"
   ]
  },
  {
   "cell_type": "raw",
   "id": "97c9c9ee-1c7f-42e2-a672-29a88058d9e7",
   "metadata": {},
   "source": [
    "Q3. Create a python program to compute the electricity bill for a household.\n",
    "The per-unit charges in rupees are as follows: For the first 100 units, the user will be charged Rs. 4.5 per\n",
    "unit, for the next 100 units, the user will be charged Rs. 6 per unit, and for the next 100 units, the user will\n",
    "be charged Rs. 10 per unit, After 300 units and above the user will be charged Rs. 20 per unit.\n",
    "You are required to take the units of electricity consumed in a month from the user as input.\n",
    "Your program must pass this test case: when the unit of electricity consumed by the user in a month is\n",
    "310, the total electricity bill should be 2250."
   ]
  },
  {
   "cell_type": "code",
   "execution_count": 27,
   "id": "476fd5f5-b720-4ebd-b947-6b3868eca372",
   "metadata": {},
   "outputs": [
    {
     "name": "stdin",
     "output_type": "stream",
     "text": [
      "units of electricty consumed in a month 310\n"
     ]
    },
    {
     "name": "stdout",
     "output_type": "stream",
     "text": [
      "2250\n"
     ]
    }
   ],
   "source": [
    "#Ans3.\n",
    "units = int(input(\"units of electricty consumed in a month\"))\n",
    "if units <= 100:\n",
    "    bill = 4.5 * units\n",
    "elif units <= 200 and units > 100:\n",
    "    bill = 450 + (units - 100)*6\n",
    "elif units <= 300 and units > 200:\n",
    "    bill = 1050 + (units - 200)*10\n",
    "else :\n",
    "    bill = 2050 + (units - 300)*20\n",
    "print(bill)"
   ]
  },
  {
   "cell_type": "raw",
   "id": "520950cf-e6df-41cc-b6f6-e9470c792e67",
   "metadata": {},
   "source": [
    "Q4. Create a list of numbers from 1 to 100. Use for loop and while loop to calculate the cube of each\n",
    "number and if the cube of that number is divisible by 4 or 5 then append that number in a list and print\n",
    "that list."
   ]
  },
  {
   "cell_type": "code",
   "execution_count": 28,
   "id": "ba10ebe6-8356-4168-ae86-bf65d7626b14",
   "metadata": {},
   "outputs": [
    {
     "name": "stdout",
     "output_type": "stream",
     "text": [
      "[2, 4, 5, 6, 8, 10, 12, 14, 15, 16, 18, 20, 22, 24, 25, 26, 28, 30, 32, 34, 35, 36, 38, 40, 42, 44, 45, 46, 48, 50, 52, 54, 55, 56, 58, 60, 62, 64, 65, 66, 68, 70, 72, 74, 75, 76, 78, 80, 82, 84, 85, 86, 88, 90, 92, 94, 95, 96, 98, 100]\n"
     ]
    }
   ],
   "source": [
    "#Ans4. Using for loop\n",
    "\n",
    "numbers = list(range(1,101))\n",
    "cubelist = []\n",
    "\n",
    "for element in numbers:\n",
    "    cube = element**3\n",
    "    if cube % 4 == 0 or cube % 5 == 0:\n",
    "        cubelist.append(element)\n",
    "print(cubelist)"
   ]
  },
  {
   "cell_type": "code",
   "execution_count": 29,
   "id": "00ce1cc3-f397-454d-beaa-8591c550baad",
   "metadata": {},
   "outputs": [
    {
     "name": "stdout",
     "output_type": "stream",
     "text": [
      "[2, 4, 5, 6, 8, 10, 12, 14, 15, 16, 18, 20, 22, 24, 25, 26, 28, 30, 32, 34, 35, 36, 38, 40, 42, 44, 45, 46, 48, 50, 52, 54, 55, 56, 58, 60, 62, 64, 65, 66, 68, 70, 72, 74, 75, 76, 78, 80, 82, 84, 85, 86, 88, 90, 92, 94, 95, 96, 98, 100]\n"
     ]
    }
   ],
   "source": [
    "#using while loop\n",
    "cube_list = []\n",
    "num = 1\n",
    "while num <= 100:\n",
    "    cube = num ** 3\n",
    "    if cube % 4 == 0 or cube % 5 == 0:\n",
    "        cube_list.append(num)\n",
    "    num += 1\n",
    "\n",
    "print(cube_list)"
   ]
  },
  {
   "cell_type": "raw",
   "id": "c8d9af4b-a990-433e-acd6-fbdc42a198a3",
   "metadata": {},
   "source": [
    "Q5. Write a program to filter count vowels in the below-given string.\n",
    "string = \"I want to become a data scientist\""
   ]
  },
  {
   "cell_type": "code",
   "execution_count": 30,
   "id": "9b3863af-631c-4ca8-9999-350db76bfb13",
   "metadata": {},
   "outputs": [
    {
     "name": "stdout",
     "output_type": "stream",
     "text": [
      "The no. of vowels in the string is: 12\n"
     ]
    }
   ],
   "source": [
    "#Ans5. \n",
    "\n",
    "string = \"I want to become a data scientist\"\n",
    "vowels = \"aeiou\"\n",
    "count = 0\n",
    "\n",
    "for V in string:\n",
    "    if V.lower() in vowels:\n",
    "        count += 1\n",
    "        \n",
    "print(\"The no. of vowels in the string is:\", count)\n",
    "        \n",
    "        "
   ]
  }
 ],
 "metadata": {
  "kernelspec": {
   "display_name": "Python 3 (ipykernel)",
   "language": "python",
   "name": "python3"
  },
  "language_info": {
   "codemirror_mode": {
    "name": "ipython",
    "version": 3
   },
   "file_extension": ".py",
   "mimetype": "text/x-python",
   "name": "python",
   "nbconvert_exporter": "python",
   "pygments_lexer": "ipython3",
   "version": "3.10.6"
  }
 },
 "nbformat": 4,
 "nbformat_minor": 5
}
