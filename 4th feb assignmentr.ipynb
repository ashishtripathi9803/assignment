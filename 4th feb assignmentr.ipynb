{
 "cells": [
  {
   "cell_type": "markdown",
   "id": "2e58b3f0-d155-4987-9464-0b2a61a95d84",
   "metadata": {},
   "source": [
    "Q1. Create a python program to sort the given list of tuples based on integer value using a\n",
    "lambda function.\n",
    "[('Sachin Tendulkar', 34357), ('Ricky Ponting', 27483), ('Jack Kallis', 25534), ('Virat Kohli', 24936)]"
   ]
  },
  {
   "cell_type": "code",
   "execution_count": 11,
   "id": "a639715f-fe68-4325-9f06-b20ac9b15bd5",
   "metadata": {},
   "outputs": [
    {
     "name": "stdout",
     "output_type": "stream",
     "text": [
      "[('Virat Kohli', 24936), ('Jack Kallis', 25534), ('Ricky Ponting', 27483), ('Sachin Tendulkar', 34357)]\n"
     ]
    }
   ],
   "source": [
    "#Ans1 \n",
    "l = [('Sachin Tendulkar', 34357), ('Ricky Ponting', 27483), ('Jack Kallis', 25534), ('Virat Kohli', 24936)]\n",
    "sorted_l = sorted(l, key = lambda x : x[1])\n",
    "print(sorted_l)"
   ]
  },
  {
   "cell_type": "markdown",
   "id": "658d57bb-0cee-4100-b4c8-7481d82eb3b6",
   "metadata": {},
   "source": [
    "Q2. Write a Python Program to find the squares of all the numbers in the given list of integers using\n",
    "lambda and map functions.\n",
    "[1, 2, 3, 4, 5, 6, 7, 8, 9, 10]"
   ]
  },
  {
   "cell_type": "code",
   "execution_count": 10,
   "id": "de75aaa8-e37d-4c36-995d-50a2d189fe6f",
   "metadata": {},
   "outputs": [
    {
     "data": {
      "text/plain": [
       "[1, 4, 9, 16, 25, 36, 49, 64, 81, 100]"
      ]
     },
     "execution_count": 10,
     "metadata": {},
     "output_type": "execute_result"
    }
   ],
   "source": [
    "#Ans2\n",
    "l1 = [1,2,3,4,5,6,7,8,9,10]\n",
    "list(map(lambda x : x**2, l1))"
   ]
  },
  {
   "cell_type": "markdown",
   "id": "e27d1553-9eda-4ba3-b66f-eb9a3cf9d4fd",
   "metadata": {},
   "source": [
    "Q3. Write a python program to convert the given list of integers into a tuple of strings. Use map and\n",
    "lambda functions\n",
    "Given String: [1, 2, 3, 4, 5, 6, 7, 8, 9, 10]\n",
    "Expected output: ('1', '2', '3', '4', '5', '6', '7', '8', '9', '10')"
   ]
  },
  {
   "cell_type": "code",
   "execution_count": 16,
   "id": "0b30a2de-000a-47be-a009-87d8b49b58bb",
   "metadata": {},
   "outputs": [
    {
     "data": {
      "text/plain": [
       "('1', '2', '3', '4', '5', '6', '7', '8', '9', '10')"
      ]
     },
     "execution_count": 16,
     "metadata": {},
     "output_type": "execute_result"
    }
   ],
   "source": [
    "#Ans3\n",
    "list_int = [1,2,3,4,5,6,7,8,9,10]\n",
    "tuple(map(lambda x : str(x), list_int))"
   ]
  },
  {
   "cell_type": "markdown",
   "id": "bcf81148-ea3c-4b45-ac34-7fb24cba910b",
   "metadata": {},
   "source": [
    "Q4. Write a python program using reduce function to compute the product of a list containing numbers\n",
    "from 1 to 25."
   ]
  },
  {
   "cell_type": "code",
   "execution_count": 21,
   "id": "1127af3b-9264-4fd4-9be1-14b06a37ad79",
   "metadata": {},
   "outputs": [
    {
     "data": {
      "text/plain": [
       "15511210043330985984000000"
      ]
     },
     "execution_count": 21,
     "metadata": {},
     "output_type": "execute_result"
    }
   ],
   "source": [
    "#Ans4\n",
    "(range(1,26))\n",
    "from functools import reduce\n",
    "reduce(lambda x,y : x*y, num)"
   ]
  },
  {
   "cell_type": "markdown",
   "id": "8105c1da-e2a4-4807-a0a7-15158414f648",
   "metadata": {},
   "source": [
    "Q5. Write a python program to filter the numbers in a given list that are divisible by 2 and 3 using the\n",
    "filter function.\n",
    "[2, 3, 6, 9, 27, 60, 90, 120, 55, 46]"
   ]
  },
  {
   "cell_type": "code",
   "execution_count": 26,
   "id": "061130e8-3703-44f4-b0bf-9614c19ee716",
   "metadata": {},
   "outputs": [
    {
     "data": {
      "text/plain": [
       "[6, 60, 90, 120]"
      ]
     },
     "execution_count": 26,
     "metadata": {},
     "output_type": "execute_result"
    }
   ],
   "source": [
    "#Ans5\n",
    "filt_list = [2, 3, 6, 9, 27, 60, 90, 120, 55, 46]\n",
    "list(filter(lambda x : x%2 ==0 and x%3 ==0 , filt_list))"
   ]
  },
  {
   "cell_type": "markdown",
   "id": "e5ee5052-be78-45ee-bb2d-9e7997299014",
   "metadata": {},
   "source": [
    "Q6. Write a python program to find palindromes in the given list of strings using lambda and filter\n",
    "function.\n",
    "['python', 'php', 'aba', 'radar', 'level']"
   ]
  },
  {
   "cell_type": "code",
   "execution_count": null,
   "id": "de8c8a7f-75d8-45fb-90fe-23609a63ead1",
   "metadata": {},
   "outputs": [],
   "source": [
    "#Ans6\n",
    "str_list = ['python', 'php', 'aba', 'radar', 'level']"
   ]
  }
 ],
 "metadata": {
  "kernelspec": {
   "display_name": "Python 3 (ipykernel)",
   "language": "python",
   "name": "python3"
  },
  "language_info": {
   "codemirror_mode": {
    "name": "ipython",
    "version": 3
   },
   "file_extension": ".py",
   "mimetype": "text/x-python",
   "name": "python",
   "nbconvert_exporter": "python",
   "pygments_lexer": "ipython3",
   "version": "3.10.8"
  }
 },
 "nbformat": 4,
 "nbformat_minor": 5
}
