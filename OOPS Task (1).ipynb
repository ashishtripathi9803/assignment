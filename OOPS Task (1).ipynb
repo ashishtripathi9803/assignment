{
 "cells": [
  {
   "cell_type": "markdown",
   "id": "45915cb5-0033-432d-b5aa-87de70158d66",
   "metadata": {},
   "source": [
    "Q1, Create a vehicle class with an init method having instance variables as name_of_vehicle, max_speed\n",
    "and average_of_vehicle."
   ]
  },
  {
   "cell_type": "code",
   "execution_count": 83,
   "id": "6e5aecfe-38e5-4e89-9f9c-edbf3956f2d0",
   "metadata": {},
   "outputs": [],
   "source": [
    "#Ans1\n",
    "\n",
    "class vehicle:\n",
    "    \n",
    "    def __init__(self, name_of_vehicle, max_speed, average_of_vehicle):\n",
    "        self.name_of_vehicle = name_of_vehicle\n",
    "        self.max_speed = max_speed\n",
    "        self.average_of_vehicle = average_of_vehicle\n",
    "        \n",
    "    def return_vehicle_details(self):\n",
    "        return self.name_of_vehicle, self.max_speed, self.average_of_vehicle\n"
   ]
  },
  {
   "cell_type": "code",
   "execution_count": 84,
   "id": "5e8a67a1-a7d2-4d9f-9c5b-f27a2492711e",
   "metadata": {},
   "outputs": [],
   "source": [
    "car = vehicle(\"mustang\", 130, 50)"
   ]
  },
  {
   "cell_type": "code",
   "execution_count": 85,
   "id": "c7cee691-dace-4399-bbc4-f15ed91c4820",
   "metadata": {},
   "outputs": [
    {
     "data": {
      "text/plain": [
       "('mustang', 130, 50)"
      ]
     },
     "execution_count": 85,
     "metadata": {},
     "output_type": "execute_result"
    }
   ],
   "source": [
    "car.return_vehicle_details()"
   ]
  },
  {
   "cell_type": "code",
   "execution_count": 86,
   "id": "10bf14c0-7016-42a4-9142-9a1e44168974",
   "metadata": {},
   "outputs": [
    {
     "data": {
      "text/plain": [
       "50"
      ]
     },
     "execution_count": 86,
     "metadata": {},
     "output_type": "execute_result"
    }
   ],
   "source": [
    "car.average_of_vehicle"
   ]
  },
  {
   "cell_type": "markdown",
   "id": "6c72a929-b62c-4572-bd6c-512459139d88",
   "metadata": {},
   "source": [
    "Q2. Create a child class car from the vehicle class created in Que 1, which will inherit the vehicle class.\n",
    "Create a method named seating_capacity which takes capacity as an argument and returns the name of\n",
    "the vehicle and its seating capacity."
   ]
  },
  {
   "cell_type": "code",
   "execution_count": 87,
   "id": "055169f6-11e4-4c96-a038-04f3c447ae12",
   "metadata": {},
   "outputs": [],
   "source": [
    "#Ans2\n",
    "class car(vehicle):\n",
    "    \n",
    "    def __init__(self, name_of_vehicle, max_speed, average_of_vehicle):\n",
    "        super().__init__(name_of_vehicle, max_speed, average_of_vehicle)\n",
    "        \n",
    "    def seating_capacity(self, capicty):\n",
    "        return f\"{self.name_of_vehicle} has a seating capacity of {capicty} people\""
   ]
  },
  {
   "cell_type": "code",
   "execution_count": 88,
   "id": "ac8103b2-42c6-4fe6-916f-20387b5c1a71",
   "metadata": {},
   "outputs": [],
   "source": [
    "car = car(\"toyata\", 85, 25)"
   ]
  },
  {
   "cell_type": "code",
   "execution_count": 89,
   "id": "90808589-1db3-4f94-a715-27a42992a4b2",
   "metadata": {},
   "outputs": [
    {
     "data": {
      "text/plain": [
       "'toyata has a seating capacity of 5 people'"
      ]
     },
     "execution_count": 89,
     "metadata": {},
     "output_type": "execute_result"
    }
   ],
   "source": [
    "car.seating_capacity(5)"
   ]
  },
  {
   "cell_type": "markdown",
   "id": "6049f9ef-d19e-4a37-9cc9-4a1b0c90082a",
   "metadata": {},
   "source": [
    "Q3. What is multiple inheritance? Write a python code to demonstrate multiple inheritance."
   ]
  },
  {
   "cell_type": "markdown",
   "id": "c410e54f-e2b4-41f4-82a0-09b2179f200e",
   "metadata": {},
   "source": [
    "Ans3. Multiple inheritance is a feature in object-oriented programming where a class can inherit attributes and methods from more than one base class. This allows a derived class to inherit and combine the features of multiple parent classes."
   ]
  },
  {
   "cell_type": "code",
   "execution_count": 90,
   "id": "82044735-11d9-44a3-b441-454ef93f61e3",
   "metadata": {},
   "outputs": [],
   "source": [
    "class class1:\n",
    "    def test_class1(self):\n",
    "        return \"this is my class1\""
   ]
  },
  {
   "cell_type": "code",
   "execution_count": 91,
   "id": "e801fc55-782e-4b86-9c8e-ebf23707cd8b",
   "metadata": {},
   "outputs": [],
   "source": [
    "class class2:\n",
    "    def test_class2(self):\n",
    "        return \"this is my class2\""
   ]
  },
  {
   "cell_type": "code",
   "execution_count": 92,
   "id": "935637bc-9c0f-4164-9a42-5b22fd278905",
   "metadata": {},
   "outputs": [],
   "source": [
    "class class3(class1, class2):\n",
    "    pass\n",
    "    "
   ]
  },
  {
   "cell_type": "code",
   "execution_count": 93,
   "id": "ccab6a64-f7a2-41cc-b821-18ea23a8795a",
   "metadata": {},
   "outputs": [],
   "source": [
    "obj_class3 = class3()"
   ]
  },
  {
   "cell_type": "code",
   "execution_count": 94,
   "id": "4c07abc2-c734-48f0-ad9c-bd0df235f4a7",
   "metadata": {},
   "outputs": [
    {
     "data": {
      "text/plain": [
       "'this is my class1'"
      ]
     },
     "execution_count": 94,
     "metadata": {},
     "output_type": "execute_result"
    }
   ],
   "source": [
    "obj_class3.test_class1()"
   ]
  },
  {
   "cell_type": "code",
   "execution_count": 95,
   "id": "d88e9fb4-407a-45d8-9046-b040666feaa8",
   "metadata": {},
   "outputs": [
    {
     "data": {
      "text/plain": [
       "'this is my class2'"
      ]
     },
     "execution_count": 95,
     "metadata": {},
     "output_type": "execute_result"
    }
   ],
   "source": [
    "obj_class3.test_class2()"
   ]
  },
  {
   "cell_type": "markdown",
   "id": "7b4ed20a-5581-4c28-b136-0a4c6d184cb2",
   "metadata": {},
   "source": [
    "Q4. What are getter and setter in python? Create a class and create a getter and a setter method in this\n",
    "class."
   ]
  },
  {
   "cell_type": "markdown",
   "id": "133330cf-377d-4f0f-99d4-d8bf5c485163",
   "metadata": {},
   "source": [
    "Ans4. In Python, getters and setters are methods that are used to retrieve and modify the values of class attributes, respectively. They provide an interface to access and update the private variables of a class indirectly, encapsulating the implementation details and adding an extra layer of abstraction."
   ]
  },
  {
   "cell_type": "code",
   "execution_count": 74,
   "id": "4d537ad1-3ce9-48af-887e-f0adeb8ee432",
   "metadata": {},
   "outputs": [],
   "source": [
    "class car:\n",
    "    \n",
    "    def __init__(self, year, make, model, speed):\n",
    "        self.__year = year\n",
    "        self.__make = make\n",
    "        self.__model = model\n",
    "        self.__speed = speed\n",
    "        \n",
    "    def set_speed(self, speed):\n",
    "        self.__speed = 0 if speed < 0 else speed\n",
    "        \n",
    "    def get_speed(self):\n",
    "        return self.__speed\n",
    "        "
   ]
  },
  {
   "cell_type": "code",
   "execution_count": 75,
   "id": "e0b7f539-b899-4458-b1bd-2361b316d5ad",
   "metadata": {},
   "outputs": [],
   "source": [
    "obj_car = car(2013, \"suzuki\", \"swift\", 200)"
   ]
  },
  {
   "cell_type": "code",
   "execution_count": 76,
   "id": "1ccd96b7-ac3c-498c-a228-00bc65069f7b",
   "metadata": {},
   "outputs": [
    {
     "data": {
      "text/plain": [
       "2013"
      ]
     },
     "execution_count": 76,
     "metadata": {},
     "output_type": "execute_result"
    }
   ],
   "source": [
    "obj_car._car__year"
   ]
  },
  {
   "cell_type": "code",
   "execution_count": 77,
   "id": "6f1c5818-5632-467e-90ef-1606e8528ee1",
   "metadata": {},
   "outputs": [],
   "source": [
    "obj_car.set_speed(-210)"
   ]
  },
  {
   "cell_type": "code",
   "execution_count": 78,
   "id": "19bfe993-ab16-4818-abe2-25e6ce21e48b",
   "metadata": {},
   "outputs": [
    {
     "data": {
      "text/plain": [
       "0"
      ]
     },
     "execution_count": 78,
     "metadata": {},
     "output_type": "execute_result"
    }
   ],
   "source": [
    "obj_car.get_speed()"
   ]
  },
  {
   "cell_type": "raw",
   "id": "e024bd2f-d81b-4825-a6c1-7dbd62a2fcc0",
   "metadata": {},
   "source": [
    "Q5.What is method overriding in python? Write a python code to demonstrate method overriding."
   ]
  },
  {
   "cell_type": "raw",
   "id": "b6daf0d4-72b1-402c-b942-f5ca44949312",
   "metadata": {},
   "source": [
    " Ans5. Method overriding in Python is a concept where a subclass provides its own implementation of a method that is already defined in its parent class. By overriding a method, the subclass can modify or extend the behavior of the method inherited from the parent class."
   ]
  },
  {
   "cell_type": "code",
   "execution_count": 79,
   "id": "9d9ab6ce-2b22-4a31-9d2b-22d81c703eb1",
   "metadata": {},
   "outputs": [],
   "source": [
    "class A:\n",
    "    def show_data(self):\n",
    "        print(\"I am in A class\")"
   ]
  },
  {
   "cell_type": "code",
   "execution_count": 80,
   "id": "f6979503-4b5b-4c5a-9370-e5901d0def70",
   "metadata": {},
   "outputs": [],
   "source": [
    "class B(A):\n",
    "    def show_data(self):\n",
    "        print(\"I am in B class\")"
   ]
  },
  {
   "cell_type": "code",
   "execution_count": 81,
   "id": "b22bc038-ca99-4d45-9d69-107347ae6530",
   "metadata": {},
   "outputs": [],
   "source": [
    "obj = B()"
   ]
  },
  {
   "cell_type": "code",
   "execution_count": 82,
   "id": "ff461a84-3df2-442f-80bf-13f92e09c8ab",
   "metadata": {},
   "outputs": [
    {
     "name": "stdout",
     "output_type": "stream",
     "text": [
      "I am in B class\n"
     ]
    }
   ],
   "source": [
    "obj.show_data()"
   ]
  },
  {
   "cell_type": "markdown",
   "id": "02690c81-6e76-4a5c-b846-24891bc334dd",
   "metadata": {},
   "source": []
  },
  {
   "cell_type": "markdown",
   "id": "379da3ca-f390-430b-b025-e4907568d43c",
   "metadata": {},
   "source": []
  }
 ],
 "metadata": {
  "kernelspec": {
   "display_name": "Python 3 (ipykernel)",
   "language": "python",
   "name": "python3"
  },
  "language_info": {
   "codemirror_mode": {
    "name": "ipython",
    "version": 3
   },
   "file_extension": ".py",
   "mimetype": "text/x-python",
   "name": "python",
   "nbconvert_exporter": "python",
   "pygments_lexer": "ipython3",
   "version": "3.10.6"
  }
 },
 "nbformat": 4,
 "nbformat_minor": 5
}
